{
 "cells": [
  {
   "cell_type": "code",
   "execution_count": 2,
   "id": "093495b2",
   "metadata": {},
   "outputs": [
    {
     "name": "stdout",
     "output_type": "stream",
     "text": [
      "root value: a\n",
      "left child: None\n",
      "left child: <__main__.BinaryTree object at 0x0635B958>\n",
      "root of left subtree: b\n",
      "right child: <__main__.BinaryTree object at 0x0635B280>\n",
      "root of right subtree: c\n",
      "root of right subtree: hello\n"
     ]
    }
   ],
   "source": [
    "#implement binarytree class:\n",
    "class BinaryTree:\n",
    "    def __init__(self, root):\n",
    "        self.key = root\n",
    "        self.left_child = None\n",
    "        self.right_child = None\n",
    "        \n",
    "    def insert_left(self, new_node):\n",
    "        if self.left_child == None:\n",
    "            self.left_child = BinaryTree(new_node)\n",
    "        else:\n",
    "            t = BinaryTree(new_node)\n",
    "            t.left_child = self.left_child\n",
    "            self.left_child = t\n",
    "            \n",
    "    def insert_right(self, new_node):\n",
    "        if self.insert_right == None:\n",
    "            self.insert_right = BinaryTree(new_node)\n",
    "        else:\n",
    "            t = BinaryTree(new_node)\n",
    "            t.right_child = self.right_child\n",
    "            self.right_child = t\n",
    "            \n",
    "    def get_right_child(self):\n",
    "        return self.right_child\n",
    "    \n",
    "    def get_left_child(self):\n",
    "        return self.left_child\n",
    "    \n",
    "    def set_root_val(self, obj):\n",
    "        self.key = obj\n",
    "        \n",
    "    def get_root_val(self):\n",
    "        return self.key\n",
    "\n",
    "    #implement traversal:\n",
    "    def preorder(self):       \n",
    "        print(self.key)\n",
    "        if self.left_child:\n",
    "            self.left_child.preorder()\n",
    "        if self.right_child:\n",
    "            self.right_child.preorder()\n",
    "            \n",
    "    def inorder(self):\n",
    "        if self.left_child:\n",
    "            self.left_child.inorder()\n",
    "        print(self.key)\n",
    "        if self.right_child:\n",
    "            self.right_child.inorder()\n",
    "    \n",
    "    def postorder(self):\n",
    "        if self.left_child:\n",
    "            self.left_child.postorder()\n",
    "        if self.right_child:\n",
    "            self.right_child.postorder()\n",
    "        print(self.key)\n",
    "#test\n",
    "root = BinaryTree('a')\n",
    "print(\"root value:\", root.get_root_val())\n",
    "print(\"left child:\", root.get_left_child())\n",
    "root.insert_left('b')\n",
    "print(\"left child:\", root.get_left_child())\n",
    "print(\"root of left subtree:\", root.get_left_child().get_root_val())\n",
    "root.insert_right('c')\n",
    "print(\"right child:\", root.get_right_child())\n",
    "print(\"root of right subtree:\", root.get_right_child().get_root_val())\n",
    "root.get_right_child().set_root_val(\"hello\")\n",
    "print(\"root of right subtree:\", root.get_right_child().get_root_val())"
   ]
  },
  {
   "cell_type": "code",
   "execution_count": null,
   "id": "e02c3bc8",
   "metadata": {},
   "outputs": [],
   "source": []
  }
 ],
 "metadata": {
  "kernelspec": {
   "display_name": "Python 3",
   "language": "python",
   "name": "python3"
  },
  "language_info": {
   "codemirror_mode": {
    "name": "ipython",
    "version": 3
   },
   "file_extension": ".py",
   "mimetype": "text/x-python",
   "name": "python",
   "nbconvert_exporter": "python",
   "pygments_lexer": "ipython3",
   "version": "3.8.8"
  }
 },
 "nbformat": 4,
 "nbformat_minor": 5
}
